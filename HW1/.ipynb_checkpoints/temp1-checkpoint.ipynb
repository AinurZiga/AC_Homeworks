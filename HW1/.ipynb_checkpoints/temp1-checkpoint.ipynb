{
 "cells": [
  {
   "cell_type": "code",
   "execution_count": 31,
   "id": "31a6c919",
   "metadata": {},
   "outputs": [],
   "source": [
    "import sound\n",
    "import scipy\n",
    "from scipy.io import wavfile\n",
    "from IPython.display import Audio\n",
    "import numpy as np\n",
    "import matplotlib.pyplot as plt\n",
    "#import librosa\n",
    "audiofile = \"Track16.wav\"\n",
    "\n",
    "font = {'family' : 'normal',\n",
    "        'weight' : 'bold',\n",
    "        'size': 16}\n",
    "plt.rc('font', **font)"
   ]
  },
  {
   "cell_type": "code",
   "execution_count": 40,
   "id": "1a72d630",
   "metadata": {},
   "outputs": [],
   "source": [
    "audiofile = \"Track16.wav\"\n",
    "binfile = \"encoded8bit.bin\"\n",
    "\n",
    "fs, data = wavfile.read(audiofile)\n",
    "data8 = data/(2**8)\n",
    "data8bit = np.int8(data8)\n",
    "\n",
    "size = pickle.dump(data8bit, open(binfile, \"wb\"), protocol=1)\n"
   ]
  },
  {
   "cell_type": "code",
   "execution_count": 41,
   "id": "38f38d71",
   "metadata": {},
   "outputs": [
    {
     "data": {
      "text/plain": [
       "array([[ 0, -1],\n",
       "       [ 0, -1],\n",
       "       [ 0,  0],\n",
       "       ...,\n",
       "       [ 0,  0],\n",
       "       [-1,  0],\n",
       "       [ 0,  0]], dtype=int8)"
      ]
     },
     "execution_count": 41,
     "metadata": {},
     "output_type": "execute_result"
    }
   ],
   "source": [
    "data8bit = np.int8(data)\n",
    "data8bit"
   ]
  },
  {
   "cell_type": "code",
   "execution_count": 42,
   "id": "343f6471",
   "metadata": {},
   "outputs": [],
   "source": [
    "audiofile = \"Track16.wav\"\n",
    "binfile = \"encoded8bit.bin\"\n",
    "decoded = \"decoded8bit.wav\"\n",
    "rate = 16000\n",
    "\n",
    "data = pickle.load(open(binfile, \"rb\"), encoding='int8')\n",
    "wavfile.write(decoded, rate=rate, data=data)"
   ]
  },
  {
   "cell_type": "code",
   "execution_count": 44,
   "id": "d4ad2910",
   "metadata": {},
   "outputs": [
    {
     "name": "stdout",
     "output_type": "stream",
     "text": [
      "Stereo\n"
     ]
    }
   ],
   "source": [
    "sound.sound(data8, fs)"
   ]
  },
  {
   "cell_type": "code",
   "execution_count": 36,
   "id": "214c54d2",
   "metadata": {},
   "outputs": [
    {
     "name": "stdout",
     "output_type": "stream",
     "text": [
      "127.0 -128.0\n"
     ]
    },
    {
     "data": {
      "text/plain": [
       "(0.0, 1.0)"
      ]
     },
     "execution_count": 36,
     "metadata": {},
     "output_type": "execute_result"
    }
   ],
   "source": [
    "# extract 8 seconds from the middle\n",
    "duration = data.shape[0] / fs\n",
    "time_fragment = [duration/2 - 4, duration/2 + 4]\n",
    "samples_fragment = data[int(time_fragment[0]*fs):int(time_fragment[1]*fs)]\n",
    "\n",
    "max_value = float(samples_fragment.max())\n",
    "min_value = float(samples_fragment.min())\n",
    "print(max_value, min_value)\n",
    "#samples_fragment_norm = np.zeros_like(samples_fragment, dtype='double')\n",
    "#samples_fragment_norm = (np.array(samples_fragment, dtype='int32') + min_value) / (max_value - min_value)\n",
    "samples_fragment_norm = (samples_fragment - min_value) / (max_value - min_value) \n",
    "samples_fragment_norm.min(), samples_fragment_norm.max()\n",
    "# plot both channels separately\n"
   ]
  },
  {
   "cell_type": "code",
   "execution_count": 37,
   "id": "9054b27f",
   "metadata": {},
   "outputs": [
    {
     "data": {
      "text/plain": [
       "(0.0, 1.0)"
      ]
     },
     "execution_count": 37,
     "metadata": {},
     "output_type": "execute_result"
    }
   ],
   "source": [
    "duration8 = data8bit.shape[0] / fs\n",
    "time_fragment8 = [duration8/2 - 4, duration8/2 + 4]\n",
    "samples_fragment8 = data[int(time_fragment8[0]*fs):int(time_fragment8[1]*fs)]\n",
    "\n",
    "max_value8 = float(samples_fragment8.max())\n",
    "min_value8 = float(samples_fragment8.min())\n",
    "#samples_fragment_norm = np.zeros_like(samples_fragment, dtype='double')\n",
    "#samples_fragment_norm = (np.array(samples_fragment, dtype='int32') + min_value) / (max_value - min_value)\n",
    "samples_fragment_norm8 = (samples_fragment8 - min_value8) / (max_value8 - min_value8) \n",
    "samples_fragment_norm8.min(), samples_fragment_norm8.max()\n",
    "# plot both channels separately\n"
   ]
  },
  {
   "cell_type": "code",
   "execution_count": 38,
   "id": "ea48db86",
   "metadata": {},
   "outputs": [
    {
     "data": {
      "image/png": "[encoded data removed]",
      "text/plain": [
       "<Figure size 1152x432 with 2 Axes>"
      ]
     },
     "metadata": {
      "needs_background": "light"
     },
     "output_type": "display_data"
    }
   ],
   "source": [
    "fig = plt.figure(figsize = (16, 6))\n",
    "ax = fig.add_subplot(121)\n",
    "ax.plot(np.linspace(*time_fragment, samples_fragment_norm.shape[0]), samples_fragment_norm[:, 0])\n",
    "ax.grid()\n",
    "plt.title(\"Channel 1\")\n",
    "\n",
    "ax = fig.add_subplot(122)\n",
    "ax.plot(np.linspace(*time_fragment8, samples_fragment_norm8.shape[0]), samples_fragment_norm8[:, 1])\n",
    "ax.grid()\n",
    "plt.title(\"Channel 2\")\n",
    "\n",
    "plt.show()"
   ]
  },
  {
   "cell_type": "code",
   "execution_count": null,
   "id": "57fa9f98",
   "metadata": {},
   "outputs": [],
   "source": []
  }
 ],
 "metadata": {
  "kernelspec": {
   "display_name": "Python 3",
   "language": "python",
   "name": "python3"
  },
  "language_info": {
   "codemirror_mode": {
    "name": "ipython",
    "version": 3
   },
   "file_extension": ".py",
   "mimetype": "text/x-python",
   "name": "python",
   "nbconvert_exporter": "python",
   "pygments_lexer": "ipython3",
   "version": "3.8.8"
  }
 },
 "nbformat": 4,
 "nbformat_minor": 5
}
