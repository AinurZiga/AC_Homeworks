{
 "cells": [
  {
   "cell_type": "code",
   "execution_count": 45,
   "id": "54f3cfa2",
   "metadata": {},
   "outputs": [],
   "source": [
    "import sound\n",
    "import scipy\n",
    "from scipy.io import wavfile\n",
    "from IPython.display import Audio\n",
    "import numpy as np\n",
    "import matplotlib.pyplot as plt\n",
    "#import librosa\n",
    "audiofile = \"Track16.wav\"\n",
    "\n",
    "font = {'family' : 'normal',\n",
    "        'weight' : 'bold',\n",
    "        'size': 16}\n",
    "plt.rc('font', **font)"
   ]
  },
  {
   "cell_type": "markdown",
   "id": "9ed68c38",
   "metadata": {},
   "source": [
    "## Task1"
   ]
  },
  {
   "cell_type": "code",
   "execution_count": 85,
   "id": "40086f2a",
   "metadata": {},
   "outputs": [],
   "source": [
    "audiofile = \"Track16.wav\"\n",
    "binfile = \"encoded8bit.bin\"\n",
    "\n",
    "fs, data = wavfile.read(audiofile)\n",
    "\n",
    "data8bit = np.int8(data/(2**8))\n",
    "\n",
    "size = pickle.dump(data8bit, open(binfile, \"wb\"), protocol=1)\n"
   ]
  },
  {
   "cell_type": "code",
   "execution_count": null,
   "id": "0564d749",
   "metadata": {},
   "outputs": [],
   "source": []
  },
  {
   "cell_type": "code",
   "execution_count": 91,
   "id": "60e1f7dd",
   "metadata": {},
   "outputs": [],
   "source": [
    "audiofile = \"Track16.wav\"\n",
    "binfile = \"encoded8bit.bin\"\n",
    "decoded = \"decoded8bit.wav\"\n",
    "rate = 16000\n",
    "\n",
    "data8bit = pickle.load(open(binfile, \"rb\"), encoding='int8')\n",
    "#sound.sound(data8bit, fs)\n",
    "wavfile.write(decoded, rate=rate, data=data8bit)"
   ]
  },
  {
   "cell_type": "code",
   "execution_count": 90,
   "id": "fa58b56e",
   "metadata": {},
   "outputs": [
    {
     "name": "stdout",
     "output_type": "stream",
     "text": [
      "Stereo\n"
     ]
    }
   ],
   "source": [
    "fs8bitafterread, data8bitafterread = wavfile.read(\"decoded8bit.wav\")\n",
    "\n",
    "sound.sound(data8bitafterread, fs)"
   ]
  },
  {
   "cell_type": "code",
   "execution_count": 69,
   "id": "ab4d00f4",
   "metadata": {},
   "outputs": [],
   "source": [
    "\n",
    "def preparing(data, fs):\n",
    "    duration = data.shape[0] / fs\n",
    "    time_fragment = [duration/2 - 4, duration/2 + 4]\n",
    "    samples_fragment = data[int(time_fragment[0]*fs):int(time_fragment[1]*fs)]\n",
    "    max_value = float(samples_fragment.max())\n",
    "    min_value = float(samples_fragment.min())\n",
    "    samples_fragment_norm = (samples_fragment - min_value) / (max_value - min_value) \n",
    "    return time_fragment, samples_fragment_norm"
   ]
  },
  {
   "cell_type": "code",
   "execution_count": 95,
   "id": "c9268c53",
   "metadata": {},
   "outputs": [],
   "source": [
    "time_fragment, samples_fragment = extract_8_seconds_from_the_middle(data, fs)\n",
    "samples_fragment_norm = normilise_to_1(samples_fragment)\n",
    "\n",
    "time_fragment8,samples_fragment8 = extract_8_seconds_from_the_middle(data8bitafterread, fs)\n",
    "samples_fragment_norm8 = normilise_to_1(samples_fragment8)"
   ]
  },
  {
   "cell_type": "code",
   "execution_count": 98,
   "id": "b31d565b",
   "metadata": {},
   "outputs": [
    {
     "data": {
      "image/png": "[encoded data removed]",
      "text/plain": [
       "<Figure size 1152x432 with 1 Axes>"
      ]
     },
     "metadata": {
      "needs_background": "light"
     },
     "output_type": "display_data"
    }
   ],
   "source": [
    "fig = plt.figure(figsize = (16, 6))\n",
    "ax = fig.add_subplot(121)\n",
    "ax.plot(np.linspace(*time_fragment8, samples_fragment_norm8.shape[0]), samples_fragment_norm8[:, 0])\n",
    "ax.plot(np.linspace(*time_fragment, samples_fragment_norm.shape[0]), samples_fragment_norm[:, 0])\n",
    "ax.grid()\n",
    "\n",
    "plt.title(\"8bit and 16bit\")\n",
    "\n",
    "plt.show()"
   ]
  },
  {
   "cell_type": "code",
   "execution_count": 72,
   "id": "a320bf2a",
   "metadata": {},
   "outputs": [],
   "source": [
    "def extract_8_seconds_from_the_middle(data, fs):\n",
    "    duration = data.shape[0] / fs\n",
    "    time_fragment = [duration/2 - 4, duration/2 + 4]\n",
    "    samples_fragment = data[int(time_fragment[0]*fs):int(time_fragment[1]*fs)]\n",
    "    return time_fragment, samples_fragment\n",
    "def normilise_to_1(samples_fragment):\n",
    "    max_value = float(samples_fragment.max())\n",
    "    min_value = float(samples_fragment.min())\n",
    "    samples_fragment_norm = (samples_fragment - min_value) / (max_value - min_value) \n",
    "    return samples_fragment_norm"
   ]
  },
  {
   "cell_type": "code",
   "execution_count": null,
   "id": "38b040b3",
   "metadata": {},
   "outputs": [],
   "source": []
  }
 ],
 "metadata": {
  "kernelspec": {
   "display_name": "Python 3",
   "language": "python",
   "name": "python3"
  },
  "language_info": {
   "codemirror_mode": {
    "name": "ipython",
    "version": 3
   },
   "file_extension": ".py",
   "mimetype": "text/x-python",
   "name": "python",
   "nbconvert_exporter": "python",
   "pygments_lexer": "ipython3",
   "version": "3.8.8"
  }
 },
 "nbformat": 4,
 "nbformat_minor": 5
}
