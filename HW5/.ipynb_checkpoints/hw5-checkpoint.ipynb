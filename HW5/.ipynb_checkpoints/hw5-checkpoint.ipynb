{
 "cells": [
  {
   "cell_type": "code",
   "execution_count": 1,
   "id": "752fafcc",
   "metadata": {},
   "outputs": [],
   "source": [
    "import numpy as np\n",
    "import matplotlib.pyplot as plt\n",
    "\n",
    "from hw3 import *\n",
    "from hw4 import *"
   ]
  },
  {
   "cell_type": "code",
   "execution_count": 2,
   "id": "31dfb930",
   "metadata": {},
   "outputs": [],
   "source": [
    "from scipy.io import wavfile\n",
    "audiofile = \"Track16.wav\"\n",
    "#test_bin = \"test.bin\"\n",
    "#original_mdct = \"original_mdct.bin\"\n",
    "#encoded_mdct = \"encoded_mdct.bin\"\n",
    "\n",
    "fs, data = wavfile.read(audiofile)\n",
    "\n",
    "start = 0 #90_000\n",
    "N = 16  # bands\n",
    "duration = 44_000 #  #30_000 # in samples\n",
    "\n",
    "#alpha = 0.6\n",
    "#width = 0.5\n",
    "\n",
    "x = data[start:start+duration, :]\n",
    "x0 = [*x[:, 0], *x[:, 1]]"
   ]
  },
  {
   "cell_type": "code",
   "execution_count": 3,
   "id": "6602cd2d",
   "metadata": {},
   "outputs": [
    {
     "ename": "NameError",
     "evalue": "name 'nfilts' is not defined",
     "output_type": "error",
     "traceback": [
      "\u001b[0;31m---------------------------------------------------------------------------\u001b[0m",
      "\u001b[0;31mNameError\u001b[0m                                 Traceback (most recent call last)",
      "\u001b[0;32m<ipython-input-3-b8e46db70ce9>\u001b[0m in \u001b[0;36m<module>\u001b[0;34m\u001b[0m\n\u001b[1;32m     10\u001b[0m \u001b[0msf_mat\u001b[0m \u001b[0;34m=\u001b[0m \u001b[0mSF_mat\u001b[0m\u001b[0;34m(\u001b[0m\u001b[0mmax_brk\u001b[0m\u001b[0;34m,\u001b[0m \u001b[0mnfilts\u001b[0m\u001b[0;34m)\u001b[0m\u001b[0;34m\u001b[0m\u001b[0;34m\u001b[0m\u001b[0m\n\u001b[1;32m     11\u001b[0m \u001b[0mmt_bark\u001b[0m \u001b[0;34m=\u001b[0m \u001b[0mMT_bark\u001b[0m\u001b[0;34m(\u001b[0m\u001b[0mx1\u001b[0m\u001b[0;34m,\u001b[0m \u001b[0msf_mat\u001b[0m\u001b[0;34m,\u001b[0m \u001b[0mmax_brk\u001b[0m\u001b[0;34m)\u001b[0m\u001b[0;34m\u001b[0m\u001b[0;34m\u001b[0m\u001b[0m\n\u001b[0;32m---> 12\u001b[0;31m \u001b[0mmt_bark2\u001b[0m \u001b[0;34m=\u001b[0m \u001b[0mMTQ_bark\u001b[0m\u001b[0;34m(\u001b[0m\u001b[0mx1\u001b[0m\u001b[0;34m,\u001b[0m \u001b[0msf_mat\u001b[0m\u001b[0;34m,\u001b[0m \u001b[0mmax_brk\u001b[0m\u001b[0;34m)\u001b[0m\u001b[0;34m\u001b[0m\u001b[0;34m\u001b[0m\u001b[0m\n\u001b[0m\u001b[1;32m     13\u001b[0m \u001b[0;34m\u001b[0m\u001b[0m\n",
      "\u001b[0;32m~/Study/GRIAT_3/AC/Golokolenko/AC_Homeworks/HW5/hw4.py\u001b[0m in \u001b[0;36mMTQ_bark\u001b[0;34m(x, sf_mat, max_brk)\u001b[0m\n\u001b[1;32m     61\u001b[0m     \u001b[0mmt\u001b[0m \u001b[0;34m=\u001b[0m \u001b[0mnp\u001b[0m\u001b[0;34m.\u001b[0m\u001b[0mdot\u001b[0m\u001b[0;34m(\u001b[0m\u001b[0mx\u001b[0m\u001b[0;34m**\u001b[0m\u001b[0malpha\u001b[0m\u001b[0;34m,\u001b[0m \u001b[0msf_mat\u001b[0m\u001b[0;34m**\u001b[0m\u001b[0malpha\u001b[0m\u001b[0;34m)\u001b[0m\u001b[0;34m\u001b[0m\u001b[0;34m\u001b[0m\u001b[0m\n\u001b[1;32m     62\u001b[0m     \u001b[0mmt\u001b[0m \u001b[0;34m=\u001b[0m \u001b[0mmt\u001b[0m\u001b[0;34m**\u001b[0m\u001b[0;34m(\u001b[0m\u001b[0;36m1.0\u001b[0m\u001b[0;34m/\u001b[0m\u001b[0malpha\u001b[0m\u001b[0;34m)\u001b[0m\u001b[0;34m\u001b[0m\u001b[0;34m\u001b[0m\u001b[0m\n\u001b[0;32m---> 63\u001b[0;31m     \u001b[0mstep_bark\u001b[0m \u001b[0;34m=\u001b[0m \u001b[0mmax_brk\u001b[0m\u001b[0;34m/\u001b[0m\u001b[0;34m(\u001b[0m\u001b[0mnfilts\u001b[0m\u001b[0;34m-\u001b[0m\u001b[0;36m1\u001b[0m\u001b[0;34m)\u001b[0m\u001b[0;34m\u001b[0m\u001b[0;34m\u001b[0m\u001b[0m\n\u001b[0m\u001b[1;32m     64\u001b[0m     \u001b[0mbarks\u001b[0m \u001b[0;34m=\u001b[0m \u001b[0mnp\u001b[0m\u001b[0;34m.\u001b[0m\u001b[0marange\u001b[0m\u001b[0;34m(\u001b[0m\u001b[0;36m0\u001b[0m\u001b[0;34m,\u001b[0m\u001b[0mnfilts\u001b[0m\u001b[0;34m)\u001b[0m\u001b[0;34m*\u001b[0m\u001b[0mstep_bark\u001b[0m\u001b[0;34m\u001b[0m\u001b[0;34m\u001b[0m\u001b[0m\n\u001b[1;32m     65\u001b[0m \u001b[0;34m\u001b[0m\u001b[0m\n",
      "\u001b[0;31mNameError\u001b[0m: name 'nfilts' is not defined"
     ]
    }
   ],
   "source": [
    "# mdct -> masking threshold -> quantization -> coding\n",
    "\n",
    "fb = Filter_banks(x0, N)\n",
    "fb.analysis()\n",
    "\n",
    "W, nfilts, max_brk = map2brk_mat(fs)\n",
    "Zxx_brk = map2brk(fb.y2, W)\n",
    "\n",
    "x1 = Zxx_brk[0, :]\n",
    "sf_mat = SF_mat(max_brk, nfilts)\n",
    "mt_bark = MT_bark(x1, sf_mat, max_brk)\n",
    "mt_bark2 = MTQ_bark(x1, sf_mat, max_brk, nfilts)\n",
    "    \n"
   ]
  },
  {
   "cell_type": "code",
   "execution_count": 13,
   "id": "1bebeeb3",
   "metadata": {},
   "outputs": [],
   "source": [
    "main([*x[:, 0], *x[:, 1]])"
   ]
  },
  {
   "cell_type": "code",
   "execution_count": null,
   "id": "f2575898",
   "metadata": {},
   "outputs": [],
   "source": []
  }
 ],
 "metadata": {
  "kernelspec": {
   "display_name": "Python 3",
   "language": "python",
   "name": "python3"
  },
  "language_info": {
   "codemirror_mode": {
    "name": "ipython",
    "version": 3
   },
   "file_extension": ".py",
   "mimetype": "text/x-python",
   "name": "python",
   "nbconvert_exporter": "python",
   "pygments_lexer": "ipython3",
   "version": "3.8.8"
  }
 },
 "nbformat": 4,
 "nbformat_minor": 5
}
