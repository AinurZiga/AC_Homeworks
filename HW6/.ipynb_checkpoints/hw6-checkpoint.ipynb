{
 "cells": [
  {
   "cell_type": "code",
   "execution_count": 1,
   "id": "7c7e179a",
   "metadata": {},
   "outputs": [],
   "source": [
    "import numpy as np\n",
    "import matplotlib.pyplot as plt\n",
    "\n",
    "font = {'family' : 'normal',\n",
    "        'weight' : 'bold',\n",
    "        'size': 16}\n",
    "plt.rc('font', **font)\n",
    "\n",
    "from hw3 import *\n",
    "from hw4 import *"
   ]
  },
  {
   "cell_type": "code",
   "execution_count": 2,
   "id": "9b4b7d37",
   "metadata": {},
   "outputs": [],
   "source": [
    "from scipy.io import wavfile\n",
    "\n",
    "#track_file = \"Track16.wav\"\n",
    "castanets_file = \"castanets_16.wav\"\n",
    "rock_file = \"rockyou_16.wav\"\n",
    "speech_file = \"speech_16.wav\"\n",
    "\n",
    "encoded = \"encoded.bin\"\n",
    "encoded_hw3 = \"encoded_hw3.bin\"\n",
    "\n",
    "fs, data = wavfile.read(rock_file)"
   ]
  },
  {
   "cell_type": "code",
   "execution_count": 3,
   "id": "489ee444",
   "metadata": {},
   "outputs": [
    {
     "data": {
      "text/plain": [
       "((511224,), dtype('int16'))"
      ]
     },
     "execution_count": 3,
     "metadata": {},
     "output_type": "execute_result"
    }
   ],
   "source": [
    "data.shape, data.dtype"
   ]
  },
  {
   "cell_type": "code",
   "execution_count": 4,
   "id": "fda65f92",
   "metadata": {},
   "outputs": [],
   "source": [
    "start = 0 #90_000\n",
    "N = 64  # bands\n",
    "nfft = 2*(N-1)\n",
    "#duration = (data.shape[0]//N) * N #  #30_000 # in samples  (440_000)\n",
    "duration = 102_400*2\n",
    "quality = 0.05\n",
    "st = 10 # time scalefactor\n",
    "alpha = 0.6\n",
    "\n",
    "x0 = data[start:start+duration]\n",
    "#x0 = [*x0[:, 0]]\n",
    "\n",
    "def map2hz_mat1(W, nfft):\n",
    "    nfreqs = int(nfft/2)\n",
    "    tmp1 = np.diag((1.0/(np.sum(W,1)+0.01))**0.5)\n",
    "    W_inv = np.dot(np.diag((1.0/(np.sum(W,1)+0.01))**0.5), W[:,0:nfreqs + 1]).T\n",
    "    return W_inv"
   ]
  },
  {
   "cell_type": "code",
   "execution_count": 5,
   "id": "01c9b098",
   "metadata": {},
   "outputs": [
    {
     "ename": "TypeError",
     "evalue": "MTQ_bark() missing 1 required positional argument: 'alpha'",
     "output_type": "error",
     "traceback": [
      "\u001b[0;31m---------------------------------------------------------------------------\u001b[0m",
      "\u001b[0;31mTypeError\u001b[0m                                 Traceback (most recent call last)",
      "\u001b[0;32m<ipython-input-5-682f09e1087f>\u001b[0m in \u001b[0;36m<module>\u001b[0;34m\u001b[0m\n\u001b[1;32m     16\u001b[0m \u001b[0;32mfor\u001b[0m \u001b[0mi\u001b[0m \u001b[0;32min\u001b[0m \u001b[0mrange\u001b[0m\u001b[0;34m(\u001b[0m\u001b[0mfb\u001b[0m\u001b[0;34m.\u001b[0m\u001b[0my2\u001b[0m\u001b[0;34m.\u001b[0m\u001b[0mshape\u001b[0m\u001b[0;34m[\u001b[0m\u001b[0;36m1\u001b[0m\u001b[0;34m]\u001b[0m\u001b[0;34m//\u001b[0m\u001b[0mst\u001b[0m\u001b[0;34m)\u001b[0m\u001b[0;34m:\u001b[0m  \u001b[0;31m# 160\u001b[0m\u001b[0;34m\u001b[0m\u001b[0;34m\u001b[0m\u001b[0m\n\u001b[1;32m     17\u001b[0m     \u001b[0mx1\u001b[0m \u001b[0;34m=\u001b[0m \u001b[0mZxx_brk\u001b[0m\u001b[0;34m[\u001b[0m\u001b[0mi\u001b[0m\u001b[0;34m*\u001b[0m\u001b[0mst\u001b[0m\u001b[0;34m,\u001b[0m \u001b[0;34m:\u001b[0m\u001b[0;34m]\u001b[0m\u001b[0;34m\u001b[0m\u001b[0;34m\u001b[0m\u001b[0m\n\u001b[0;32m---> 18\u001b[0;31m     \u001b[0mmt_bark2\u001b[0m \u001b[0;34m=\u001b[0m \u001b[0mMTQ_bark\u001b[0m\u001b[0;34m(\u001b[0m\u001b[0mx1\u001b[0m\u001b[0;34m,\u001b[0m \u001b[0msf_mat\u001b[0m\u001b[0;34m,\u001b[0m \u001b[0mmax_brk\u001b[0m\u001b[0;34m,\u001b[0m \u001b[0mnfilts\u001b[0m\u001b[0;34m)\u001b[0m \u001b[0;34m*\u001b[0m \u001b[0mquality\u001b[0m   \u001b[0;31m#/(quality/100)\u001b[0m\u001b[0;34m\u001b[0m\u001b[0;34m\u001b[0m\u001b[0m\n\u001b[0m\u001b[1;32m     19\u001b[0m     \u001b[0mmt2\u001b[0m \u001b[0;34m=\u001b[0m \u001b[0mmap2hz\u001b[0m\u001b[0;34m(\u001b[0m\u001b[0mmt_bark2\u001b[0m\u001b[0;34m,\u001b[0m \u001b[0mW_inv\u001b[0m\u001b[0;34m,\u001b[0m \u001b[0mnfft\u001b[0m\u001b[0;34m)\u001b[0m\u001b[0;34m\u001b[0m\u001b[0;34m\u001b[0m\u001b[0m\n\u001b[1;32m     20\u001b[0m \u001b[0;34m\u001b[0m\u001b[0m\n",
      "\u001b[0;31mTypeError\u001b[0m: MTQ_bark() missing 1 required positional argument: 'alpha'"
     ]
    }
   ],
   "source": [
    "# mdct -> masking threshold -> quantization -> coding\n",
    "\n",
    "fb = Filter_banks(x0, N)\n",
    "#fb.h_n = np.sin(np.pi/(2*N) * (np.arange(int(2*N))+0.5)) * np.sqrt(2/N)\n",
    "fb.analysis()\n",
    "\n",
    "W, nfilts, max_brk = map2brk_mat(fs, nfft)\n",
    "Zxx_brk = map2brk(fb.y2, W, nfft)\n",
    "sf_mat = SF_mat(max_brk, nfilts, alpha)\n",
    "W_inv = map2hz_mat1(W, nfft)\n",
    "\n",
    "bit_steps_mat = np.zeros((fb.y2.shape[0], fb.y2.shape[1]//st), dtype=np.float64)\n",
    "new_steps = np.zeros((fb.y2.shape[0], fb.y2.shape[1]//st), np.float64)\n",
    "x2 = np.zeros_like(fb.y2)\n",
    "\n",
    "for i in range(fb.y2.shape[1]//st):  # 160\n",
    "    x1 = Zxx_brk[i*st, :]\n",
    "    mt_bark2 = MTQ_bark(x1, sf_mat, max_brk, nfilts, alpha) * quality   #/(quality/100)\n",
    "    mt2 = map2hz(mt_bark2, W_inv, nfft)\n",
    "    \n",
    "    steps = mt2.copy()\n",
    "    bit_steps_mat[:, i] = steps\n",
    "    \n",
    "for i in range(N):\n",
    "    num_steps = (np.max(fb.y2[i, :]) - np.min(fb.y2[i, :])) / bit_steps_mat[i, :]\n",
    "    num_steps[num_steps > 10**6] = 10**6\n",
    "    #    num_steps = 10**6\n",
    "    num_steps_new = 2 ** np.ceil(np.log2(num_steps))\n",
    "    new_steps[i, :] = (np.max(fb.y2[i, :]) - np.min(fb.y2[i, :])) / num_steps_new #/ (2**bit_steps_mat[i, :])\n",
    "    #new_steps[]\n",
    "    for j in range(fb.y2.shape[1]//st):\n",
    "        x2[i, st*j:st*j+st] = fb.y2[i, st*j:st*j+st] / new_steps[i, j]\n",
    "    #if i == 1:\n",
    "     #   print(x2[1, :40])\n",
    "\n",
    "x2 = x2.astype(np.int32)\n",
    "pickle.dump([new_steps, x2], open(encoded, \"wb\"), 1) \n",
    "\n",
    "decod_dicts = []\n",
    "steps = []\n",
    "lens = []\n",
    "coded_strings = bitarray()\n",
    "data8bits = []\n",
    "    \n",
    "for i in range(N):\n",
    "    huffman = Huffman(x2[i, :])\n",
    "    decod_dict, coded_string = huffman.encode()\n",
    "    decod_dicts.append(decod_dict)\n",
    "    lens.append(len(coded_string))\n",
    "    coded_strings.extend(coded_string)\n",
    "    #if i == 56:\n",
    "    #    huffman1 = huffman\n",
    "        #huffman.routines()\n",
    "        #for k in huffman.sorted_dict.keys():\n",
    "        #    print(k, huffman.sorted_dict[k])\n",
    "    \n",
    "pickle.dump([new_steps, decod_dicts, coded_strings, lens], open(encoded_hw3, \"wb\"), 1)\n",
    "\n",
    "print(duration * 16 / 1024)\n",
    "print(os.path.getsize(encoded) / 1024)\n",
    "print(os.path.getsize(encoded_hw3) / 1024)"
   ]
  },
  {
   "cell_type": "code",
   "execution_count": 6,
   "id": "2be98d0b",
   "metadata": {},
   "outputs": [
    {
     "name": "stderr",
     "output_type": "stream",
     "text": [
      "findfont: Font family ['normal'] not found. Falling back to DejaVu Sans.\n",
      "findfont: Font family ['normal'] not found. Falling back to DejaVu Sans.\n"
     ]
    },
    {
     "data": {
      "image/png": "[encoded data removed]",
      "text/plain": [
       "<Figure size 720x432 with 1 Axes>"
      ]
     },
     "metadata": {
      "needs_background": "light"
     },
     "output_type": "display_data"
    }
   ],
   "source": [
    "mt_new = np.zeros((N))\n",
    "for i in range(x2.shape[1]):\n",
    "    x1_i = Zxx_brk[i, :]\n",
    "    mt_bark2_i = MTQ_bark(x1_i, sf_mat, max_brk, nfilts, alpha) #* quality    # /(quality/100)\n",
    "    mt2_i = map2hz(mt_bark2_i, W_inv, nfft)\n",
    "    mt_new += mt2_i\n",
    "mt_new /= x2.shape[1]\n",
    "\n",
    "i = 100\n",
    "x1_i = Zxx_brk[i, :]\n",
    "mt_bark2_i = MTQ_bark(x1_i, sf_mat, max_brk, nfilts, alpha) #* quality    #/(quality/100)\n",
    "mt2_i = map2hz(mt_bark2_i, W_inv, nfft)\n",
    "\n",
    "fig = plt.figure(figsize = (10, 6))\n",
    "ax = fig.add_subplot()\n",
    "#ax.semilogy(mt2_i)\n",
    "#ax.semilogy((new_steps[:, i//st]))\n",
    "ax.semilogy(mt_new)\n",
    "ax.semilogy(new_steps.mean(axis=1))\n",
    "plt.legend([\"Masking threshold\", \"Quantization error\"])\n",
    "plt.xlabel(\"MDCT bands\")\n",
    "plt.grid()\n",
    "plt.show()"
   ]
  },
  {
   "cell_type": "code",
   "execution_count": 65,
   "id": "0e47299e",
   "metadata": {},
   "outputs": [],
   "source": [
    "# decode 1\n",
    "[new_steps_dec, x2_dec] = pickle.load(open(encoded, \"rb\"))\n",
    "\n",
    "x_hat = np.zeros_like(x2_dec)\n",
    "for i in range(x2_dec.shape[1]):\n",
    "    x_hat[:, i] = x2_dec[:, i] * new_steps_dec[:, i//st]\n",
    "x_hat1 = fb.synthesis(x_hat)"
   ]
  },
  {
   "cell_type": "code",
   "execution_count": 66,
   "id": "ac772d8b",
   "metadata": {},
   "outputs": [
    {
     "name": "stdout",
     "output_type": "stream",
     "text": [
      "54\n",
      "56\n",
      "57\n",
      "58\n",
      "59\n",
      "60\n",
      "61\n",
      "62\n",
      "63\n"
     ]
    }
   ],
   "source": [
    "# decode 2\n",
    "[new_steps_dec, decod_dicts_dec, coded_strings_dec, lens_dec] = pickle.load(open(encoded_hw3, \"rb\"))\n",
    "\n",
    "r = 0\n",
    "y2_dec1 = np.zeros_like(x2_dec)\n",
    "y2_dec2 = np.zeros_like(x2_dec)\n",
    "for i in range(N):\n",
    "    try:\n",
    "        y2_dec1[i, :] = decode_h(decod_dicts_dec[i], coded_strings_dec[r:r+lens[i]])\n",
    "    except:\n",
    "        print(i)\n",
    "    y2_dec2[i, :] = y2_dec1[i, :] * np.repeat(new_steps_dec[i], st)\n",
    "    r += lens[i]\n",
    "x_hat2 = fb.synthesis(y2_dec2)"
   ]
  },
  {
   "cell_type": "code",
   "execution_count": 67,
   "id": "11f23b6f",
   "metadata": {},
   "outputs": [],
   "source": [
    "wavfile.write(\"restored1.wav\", rate=fs, data=x_hat1.astype(np.int16))\n",
    "wavfile.write(\"restored2.wav\", rate=fs, data=x_hat2.astype(np.int16))"
   ]
  },
  {
   "cell_type": "code",
   "execution_count": 68,
   "id": "7d3b2420",
   "metadata": {
    "scrolled": true
   },
   "outputs": [
    {
     "data": {
      "text/plain": [
       "[<matplotlib.lines.Line2D at 0x7f17e8845160>]"
      ]
     },
     "execution_count": 68,
     "metadata": {},
     "output_type": "execute_result"
    },
    {
     "data": {
      "image/png": "[encoded data removed]",
      "text/plain": [
       "<Figure size 432x288 with 1 Axes>"
      ]
     },
     "metadata": {
      "needs_background": "light"
     },
     "output_type": "display_data"
    }
   ],
   "source": [
    "plt.plot(x_hat1 -x_hat2)"
   ]
  },
  {
   "cell_type": "code",
   "execution_count": 14,
   "id": "e166bbf7",
   "metadata": {},
   "outputs": [
    {
     "data": {
      "text/plain": [
       "0"
      ]
     },
     "execution_count": 14,
     "metadata": {},
     "output_type": "execute_result"
    }
   ],
   "source": [
    "np.argmax((x_hat1 -x_hat2))"
   ]
  },
  {
   "cell_type": "code",
   "execution_count": 250,
   "id": "30311c78",
   "metadata": {},
   "outputs": [
    {
     "data": {
      "text/plain": [
       "(array([0., 0., 0., 0., 0., 0., 0., 0., 0., 0., 0., 0., 0., 0., 0., 0., 0.,\n",
       "        0., 0., 0., 0., 0., 0., 0., 0., 0., 0., 0., 0., 0., 0., 0., 0., 0.,\n",
       "        0., 0., 0., 0., 0., 0., 0., 0., 0., 0., 0., 0., 0., 0., 0., 0., 0.,\n",
       "        0., 0., 0., 0., 0., 0., 0., 0., 0., 0., 0., 0., 0., 0., 0., 0., 0.,\n",
       "        0., 0., 0., 0., 0., 0., 0., 0., 0., 0., 0., 0., 0., 0., 0., 0., 0.,\n",
       "        0., 0., 0., 0., 0., 0., 0., 0., 0., 0., 0., 0., 0., 0., 0.]),\n",
       " 3.311311078601401)"
      ]
     },
     "execution_count": 250,
     "metadata": {},
     "output_type": "execute_result"
    }
   ],
   "source": [
    "(x_hat2 - x_hat1)[10000:10100], np.sum(np.abs(x_hat2 - x_hat1))/ duration"
   ]
  },
  {
   "cell_type": "code",
   "execution_count": 169,
   "id": "27830e8d",
   "metadata": {},
   "outputs": [
    {
     "data": {
      "image/png": "[encoded data removed]",
      "text/plain": [
       "<Figure size 432x288 with 1 Axes>"
      ]
     },
     "metadata": {
      "needs_background": "light"
     },
     "output_type": "display_data"
    }
   ],
   "source": [
    "plt.plot(x_hat1)\n",
    "plt.plot(x0, '--')\n",
    "plt.show()"
   ]
  },
  {
   "cell_type": "code",
   "execution_count": 168,
   "id": "7922c5d4",
   "metadata": {},
   "outputs": [
    {
     "data": {
      "image/png": "[encoded data removed]",
      "text/plain": [
       "<Figure size 432x288 with 1 Axes>"
      ]
     },
     "metadata": {
      "needs_background": "light"
     },
     "output_type": "display_data"
    }
   ],
   "source": [
    "plt.plot(x_hat2)\n",
    "#plt.plot(x0, '--')\n",
    "plt.show()"
   ]
  },
  {
   "cell_type": "code",
   "execution_count": 64,
   "id": "d8606563",
   "metadata": {},
   "outputs": [
    {
     "name": "stdout",
     "output_type": "stream",
     "text": [
      "000\n"
     ]
    }
   ],
   "source": [
    "# not use\n",
    "\n",
    "#for i, s in enumerate(huffman1.sorted_dict):\n",
    "    \n",
    "i = 0\n",
    "#print(i, s, huffman1.sorted_dict[s])\n",
    "x = huffman1.nodes[0][i]\n",
    "cod = ''\n",
    "#print('len_dict:', len(self.sorted_dict))\n",
    "for k in range(len(huffman1.sorted_dict)):\n",
    "    #print(k)\n",
    "    if x.parent_from_left:\n",
    "        x = x.parent_from_left\n",
    "        if x is None:\n",
    "            break\n",
    "        cod += '0'\n",
    "    else:\n",
    "        x = x.parent_from_right\n",
    "        if x is None:\n",
    "            break\n",
    "        cod += '1'\n",
    "        \n",
    "print(cod)\n",
    "\n",
    "#print(1) if huffman1.cod_dict else print(0)\n",
    "huffman1.cod_dict\n",
    "huffman1.cod_dict.items()\n",
    "\n",
    "\n",
    "#decod_dicts[1]\n",
    "#x2[1, :40]\n",
    "#new_steps[1, new_steps[1, :] < 1]\n",
    "#new_steps[:, :10]\n",
    "#fb.y2.shape\n",
    "#num_steps\n",
    "decod_dicts[56], x2[56, :40]"
   ]
  },
  {
   "cell_type": "code",
   "execution_count": 46,
   "id": "b894d283",
   "metadata": {},
   "outputs": [
    {
     "data": {
      "text/plain": [
       "(64, 1600)"
      ]
     },
     "execution_count": 46,
     "metadata": {},
     "output_type": "execute_result"
    }
   ],
   "source": [
    "x2_dec.shape"
   ]
  },
  {
   "cell_type": "code",
   "execution_count": null,
   "id": "f3890fb9",
   "metadata": {},
   "outputs": [],
   "source": []
  },
  {
   "cell_type": "code",
   "execution_count": 130,
   "id": "f5beaf07",
   "metadata": {},
   "outputs": [
    {
     "data": {
      "text/plain": [
       "536"
      ]
     },
     "execution_count": 130,
     "metadata": {},
     "output_type": "execute_result"
    }
   ],
   "source": [
    "x2.flatten().max()"
   ]
  },
  {
   "cell_type": "code",
   "execution_count": 118,
   "id": "f605780e",
   "metadata": {},
   "outputs": [
    {
     "data": {
      "text/plain": [
       "(array([ 39,  42,  -6,   1,  10,  -7,   0,   0,   0,   0, -12,  -1,   2,\n",
       "          0,  -1,  -1,   0,   0,   0,   0,   0,   0,   0,   0,   0,   0,\n",
       "          0,   0,   0,   0,   0,   0,   0,   0,   0,   0,   0,   0,   0,\n",
       "          0,   0,   0,   0,   0,   0,   0,   0,   0,   0,   0,   0,   0,\n",
       "          0,   0,   0,   0,   0,   0,   0,   0,   0,   0,   0,   0]),\n",
       " array([ 742,  926, 1224,  516,  262,  238,  389,  191,  287,  269,  112,\n",
       "         305,  245,  182,  172,  363,  282,   89,  207,  120,  271,  219,\n",
       "          93,  182,  127,   93,  299,  193,  175,  286,  323,  234,  469,\n",
       "         520,  385,  479,  462, 1079,  735,  675,  736, 1199, 1298,  573,\n",
       "         493,  609,  739, 1016,  652,  429,  598,  659,  693,  890,  566,\n",
       "         461, 1267, 1809, 1581, 1723, 1005,  453,  109,   30]))"
      ]
     },
     "execution_count": 118,
     "metadata": {},
     "output_type": "execute_result"
    }
   ],
   "source": [
    "x2[:, k], new_steps[:, k//st]"
   ]
  },
  {
   "cell_type": "code",
   "execution_count": 119,
   "id": "71cd7acd",
   "metadata": {},
   "outputs": [
    {
     "data": {
      "text/plain": [
       "[<matplotlib.lines.Line2D at 0x7fe009a8f460>]"
      ]
     },
     "execution_count": 119,
     "metadata": {},
     "output_type": "execute_result"
    },
    {
     "data": {
      "image/png": "[encoded data removed]",
      "text/plain": [
       "<Figure size 432x288 with 1 Axes>"
      ]
     },
     "metadata": {
      "needs_background": "light"
     },
     "output_type": "display_data"
    }
   ],
   "source": [
    "fb.y2.shape, new_steps.shape, Zxx_brk.shape, x2.shape\n",
    "k = 100\n",
    "plt.plot(x2[:, k] * new_steps[:, k//st])\n",
    "plt.plot(fb.y2[:, k])"
   ]
  },
  {
   "cell_type": "code",
   "execution_count": 8,
   "id": "c0f886f7",
   "metadata": {},
   "outputs": [
    {
     "data": {
      "text/plain": [
       "array([0, 0, 0, 1, 1, 1, 2, 2, 2, 3, 3, 3, 4, 4, 4])"
      ]
     },
     "execution_count": 8,
     "metadata": {},
     "output_type": "execute_result"
    }
   ],
   "source": [
    "np.repeat(np.arange(5), 3)"
   ]
  },
  {
   "cell_type": "code",
   "execution_count": 88,
   "id": "8f1e8bd4",
   "metadata": {},
   "outputs": [],
   "source": [
    "# decode (old)\n",
    "x_hat = np.zeros_like(fb.y2)\n",
    "for i in range(fb.y2.shape[1]):\n",
    "    x_hat[:, i] = x2[:, i] * new_steps[:, i] #2**bit_steps_mat[:, i//st]\n",
    "x_hat1 = fb.synthesis(x_hat)\n",
    "\n",
    "#steps_mat.shape"
   ]
  },
  {
   "cell_type": "code",
   "execution_count": 68,
   "id": "2562e9b8",
   "metadata": {},
   "outputs": [],
   "source": [
    "# mdct -> masking threshold -> quantization -> coding\n",
    "# old\n",
    "\n",
    "fb = Filter_banks(x0, N)\n",
    "fb.analysis()\n",
    "\n",
    "W, nfilts, max_brk = map2brk_mat(fs, nfft)\n",
    "Zxx_brk = map2brk(fb.y2, W, nfft)**2\n",
    "sf_mat = SF_mat(max_brk, nfilts)\n",
    "W_inv = map2hz_mat1(W, nfft)\n",
    "\n",
    "bit_steps_mat = np.zeros_like((fb.y2), dtype=np.int)\n",
    "new_steps = np.zeros_like((fb.y2), np.int)\n",
    "x2 = np.zeros_like(fb.y2)\n",
    "\n",
    "decod_dicts = []\n",
    "steps = []\n",
    "lens = []\n",
    "coded_strings = bitarray()\n",
    "data8bits = []\n",
    "\n",
    "for i in range(Zxx_brk.shape[0]):  # 1600\n",
    "    x1 = Zxx_brk[i, :]\n",
    "    #sf_mat = SF_mat(max_brk, nfilts)\n",
    "    #mt_bark = MT_bark(x1, sf_mat, max_brk)\n",
    "    mt_bark2 = MTQ_bark(x1, sf_mat, max_brk, nfilts) /(quality/100)\n",
    "    mt2 = map2hz(mt_bark2, W_inv, nfft)\n",
    "    \n",
    "    steps = np.sqrt(12*mt2)\n",
    "    bit_steps = pow2(steps)\n",
    "    #new_steps = steps.astype(np.int8)\n",
    "    a = np.min(bit_steps) - 1\n",
    "    bit_steps -= a\n",
    "    bit_steps_mat[:, i] = bit_steps\n",
    "    \n",
    "for i in range(N):\n",
    "    new_steps[i, :] = 1+(np.max(fb.y2[i, :]) - np.min(fb.y2[i, :])) / (2**bit_steps_mat[i, :])\n",
    "    x2[i, :] = fb.y2[i, :] / new_steps[i, :]\n",
    "\n",
    "\n",
    "x2 = x2.astype(np.int)\n",
    "#pickle.dump([new_steps, x2], open(encoded, \"wb\"), 1) \n"
   ]
  },
  {
   "cell_type": "code",
   "execution_count": 23,
   "id": "67b3ca67",
   "metadata": {},
   "outputs": [
    {
     "data": {
      "text/plain": [
       "((64, 1600), (64,), (1600, 39), (64, 1600))"
      ]
     },
     "execution_count": 23,
     "metadata": {},
     "output_type": "execute_result"
    }
   ],
   "source": [
    "fb.y2.shape, new_steps.shape, Zxx_brk.shape, steps_mat.shape\n",
    "#x_hat1.shape, (x2*new_steps).shape"
   ]
  },
  {
   "cell_type": "code",
   "execution_count": 13,
   "id": "9e02bb77",
   "metadata": {},
   "outputs": [],
   "source": [
    "mt_bark2.shape\n",
    "\n",
    "W_inv = map2hz_mat1(W, nfft)\n",
    "mt2 = map2hz(mt_bark2, W_inv, nfft)"
   ]
  },
  {
   "cell_type": "code",
   "execution_count": 48,
   "id": "6ed0aa0e",
   "metadata": {},
   "outputs": [],
   "source": [
    "def pow2(x):\n",
    "    return np.ceil(np.log2(x))\n",
    "\n",
    "#pow2([10, 18, 19, 31])"
   ]
  },
  {
   "cell_type": "code",
   "execution_count": 8,
   "id": "ffb9acc7",
   "metadata": {},
   "outputs": [
    {
     "ename": "NameError",
     "evalue": "name 'main' is not defined",
     "output_type": "error",
     "traceback": [
      "\u001b[0;31m---------------------------------------------------------------------------\u001b[0m",
      "\u001b[0;31mNameError\u001b[0m                                 Traceback (most recent call last)",
      "\u001b[0;32m<ipython-input-8-52af8dfb2410>\u001b[0m in \u001b[0;36m<module>\u001b[0;34m\u001b[0m\n\u001b[0;32m----> 1\u001b[0;31m \u001b[0mmain\u001b[0m\u001b[0;34m(\u001b[0m\u001b[0;34m[\u001b[0m\u001b[0;34m*\u001b[0m\u001b[0mx\u001b[0m\u001b[0;34m[\u001b[0m\u001b[0;34m:\u001b[0m\u001b[0;34m,\u001b[0m \u001b[0;36m0\u001b[0m\u001b[0;34m]\u001b[0m\u001b[0;34m,\u001b[0m \u001b[0;34m*\u001b[0m\u001b[0mx\u001b[0m\u001b[0;34m[\u001b[0m\u001b[0;34m:\u001b[0m\u001b[0;34m,\u001b[0m \u001b[0;36m1\u001b[0m\u001b[0;34m]\u001b[0m\u001b[0;34m]\u001b[0m\u001b[0;34m)\u001b[0m\u001b[0;34m\u001b[0m\u001b[0;34m\u001b[0m\u001b[0m\n\u001b[0m",
      "\u001b[0;31mNameError\u001b[0m: name 'main' is not defined"
     ]
    }
   ],
   "source": [
    "main([*x[:, 0], *x[:, 1]])"
   ]
  },
  {
   "cell_type": "code",
   "execution_count": null,
   "id": "d92fdae5",
   "metadata": {},
   "outputs": [],
   "source": []
  }
 ],
 "metadata": {
  "kernelspec": {
   "display_name": "Python 3",
   "language": "python",
   "name": "python3"
  },
  "language_info": {
   "codemirror_mode": {
    "name": "ipython",
    "version": 3
   },
   "file_extension": ".py",
   "mimetype": "text/x-python",
   "name": "python",
   "nbconvert_exporter": "python",
   "pygments_lexer": "ipython3",
   "version": "3.8.8"
  }
 },
 "nbformat": 4,
 "nbformat_minor": 5
}
